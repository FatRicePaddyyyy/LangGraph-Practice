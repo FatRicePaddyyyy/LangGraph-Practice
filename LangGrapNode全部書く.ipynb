{
 "cells": [
  {
   "cell_type": "markdown",
   "metadata": {},
   "source": [
    "# ライブラリのインポート"
   ]
  },
  {
   "cell_type": "code",
   "execution_count": null,
   "metadata": {},
   "outputs": [],
   "source": [
    "import os\n",
    "import json\n",
    "import operator\n",
    "import pkg_resources\n",
    "from typing import TypedDict, Annotated, Sequence\n",
    "# Lang関連\n",
    "from langchain_community.tools.tavily_search import TavilySearchResults\n",
    "from langgraph.graph import StateGraph, END\n",
    "from langgraph.prebuilt import ToolExecutor,ToolInvocation,ToolNode\n",
    "from langchain_core.messages import BaseMessage, FunctionMessage, HumanMessage,ToolMessage\n",
    "from langchain_google_genai import ChatGoogleGenerativeAI"
   ]
  },
  {
   "cell_type": "code",
   "execution_count": null,
   "metadata": {},
   "outputs": [],
   "source": [
    "\n",
    "langgraph_version = pkg_resources.get_distribution(\"langgraph\").version\n",
    "print(f\"langgraph version: {langgraph_version}\")\n",
    "\n",
    "langchain_community_version = pkg_resources.get_distribution(\"langchain_community\").version\n",
    "print(f\"langchain_community version: {langchain_community_version}\")\n",
    "\n",
    "langgraph_version = pkg_resources.get_distribution(\"langgraph\").version\n",
    "print(f\"langgraph version: {langgraph_version}\")\n",
    "\n",
    "langchain_core_version = pkg_resources.get_distribution(\"langchain_core\").version\n",
    "print(f\"langchain_core version: {langchain_core_version}\")\n",
    "\n",
    "langchain_google_genai_version = pkg_resources.get_distribution(\"langchain_google_genai\").version\n",
    "print(f\"langchain_google_genai version: {langchain_google_genai_version}\")"
   ]
  },
  {
   "cell_type": "markdown",
   "metadata": {},
   "source": [
    "# モデルの定義"
   ]
  },
  {
   "cell_type": "code",
   "execution_count": null,
   "metadata": {},
   "outputs": [],
   "source": [
    "# ネット検索を使うためのツール\n",
    "tools = [TavilySearchResults(max_results=1)]\n",
    "tool_executor = ToolExecutor(tools)\n",
    "# モデルの定義\n",
    "model = ChatGoogleGenerativeAI(\n",
    "    model=\"models/gemini-1.5-flash\",\n",
    ")\n",
    "# モデルにツールを結びつける\n",
    "model =model.bind_tools(tools)\n"
   ]
  },
  {
   "cell_type": "markdown",
   "metadata": {},
   "source": [
    "# グラフの定義"
   ]
  },
  {
   "cell_type": "markdown",
   "metadata": {},
   "source": [
    "### 保持すべき状態を定義"
   ]
  },
  {
   "cell_type": "code",
   "execution_count": null,
   "metadata": {},
   "outputs": [],
   "source": [
    "class AgentState(TypedDict):\n",
    "    messages: Annotated[Sequence[BaseMessage], operator.add]"
   ]
  },
  {
   "cell_type": "markdown",
   "metadata": {},
   "source": [
    "### ノードの定義"
   ]
  },
  {
   "cell_type": "code",
   "execution_count": null,
   "metadata": {},
   "outputs": [],
   "source": [
    "# 続行するかどうかを決定する関数を定義\n",
    "def should_continue(state):\n",
    "    messages = state['messages']\n",
    "    last_message = messages[-1]\n",
    "    if \"function_call\" not in last_message.additional_kwargs:\n",
    "        return \"end\"\n",
    "    else:\n",
    "        return \"continue\"\n",
    "\n",
    "\n",
    "# モデルを呼び出す関数を定義\n",
    "def call_model(state):\n",
    "    messages = state['messages']\n",
    "    response = model.invoke(messages)\n",
    "    return {\"messages\": [response]}\n",
    "\n",
    "def call_tool(state):\n",
    "    messages = state['messages']\n",
    "    last_message = messages[-1]\n",
    "    \n",
    "    # 関数呼び出しの情報を取得\n",
    "    function_call = last_message.additional_kwargs[\"function_call\"]\n",
    "    tool_name = function_call[\"name\"]\n",
    "    tool_args = json.loads(function_call[\"arguments\"])\n",
    "    \n",
    "    # 適切なツールを選択して実行\n",
    "    for tool in tools:\n",
    "        if tool.name == tool_name:\n",
    "            response = tool.run(tool_args)\n",
    "            break\n",
    "    else:\n",
    "        response = f\"Error: Tool '{tool_name}' not found\"\n",
    "    \n",
    "    # 応答を使ってFunctionMessageを作成\n",
    "    function_message = FunctionMessage(content=str(response), name=tool_name)\n",
    "    \n",
    "    return {\"messages\": [function_message]}"
   ]
  },
  {
   "cell_type": "markdown",
   "metadata": {},
   "source": [
    "### ノードの追加とエッジの定義"
   ]
  },
  {
   "cell_type": "code",
   "execution_count": null,
   "metadata": {},
   "outputs": [],
   "source": [
    "# 新しいグラフを定義\n",
    "workflow = StateGraph(AgentState)\n",
    "\n",
    "# 二つのノードを定義\n",
    "workflow.add_node(\"agent\", call_model)\n",
    "workflow.add_node(\"action\", call_tool)\n",
    "\n",
    "\n",
    "workflow.set_entry_point(\"agent\")\n",
    "\n",
    "# 条件付きエッジを追加\n",
    "workflow.add_conditional_edges(\"agent\", should_continue, {\"continue\": \"action\",\"end\": END} )\n",
    "\n",
    "workflow.add_edge('action', 'agent')\n",
    "\n",
    "graph = workflow.compile()"
   ]
  },
  {
   "cell_type": "markdown",
   "metadata": {},
   "source": [
    "### モデルの呼び出し"
   ]
  },
  {
   "cell_type": "code",
   "execution_count": null,
   "metadata": {},
   "outputs": [],
   "source": [
    "inputs = {\"messages\": [HumanMessage(content=\"明日の東京の天気を教えて\")]}\n",
    "result = graph.invoke(inputs)\n",
    "print(result)"
   ]
  },
  {
   "cell_type": "markdown",
   "metadata": {},
   "source": [
    "### resultの中身を確認"
   ]
  },
  {
   "cell_type": "code",
   "execution_count": null,
   "metadata": {},
   "outputs": [],
   "source": [
    "for name in result['messages']:\n",
    "    print(\"-\"*100)\n",
    "    print(name.__str__)\n"
   ]
  }
 ],
 "metadata": {
  "kernelspec": {
   "display_name": "base",
   "language": "python",
   "name": "python3"
  },
  "language_info": {
   "codemirror_mode": {
    "name": "ipython",
    "version": 3
   },
   "file_extension": ".py",
   "mimetype": "text/x-python",
   "name": "python",
   "nbconvert_exporter": "python",
   "pygments_lexer": "ipython3",
   "version": "3.11.5"
  }
 },
 "nbformat": 4,
 "nbformat_minor": 2
}
